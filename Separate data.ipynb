{
 "cells": [
  {
   "cell_type": "markdown",
   "id": "ab799522-0ab7-4372-b035-dd0093edaa1e",
   "metadata": {},
   "source": [
    "#### Separation of column data"
   ]
  },
  {
   "cell_type": "code",
   "execution_count": 22,
   "id": "d6a6a4ed-5677-4a39-9cdf-80a066469533",
   "metadata": {},
   "outputs": [
    {
     "name": "stdout",
     "output_type": "stream",
     "text": [
      "Disease counts saved to 'disease_counts.csv'\n"
     ]
    }
   ],
   "source": [
    "import pandas as pd\n",
    "from collections import Counter\n",
    "\n",
    "# Example: Load your actual data\n",
    "# df = pd.read_csv(\"your_file.csv\")\n",
    "\n",
    "# Example dummy data (replace this with actual file loading)\n",
    "core=pd.read_csv(\"CAs April-May.csv\")\n",
    "data =core[\"Cause_of_loss\"]\n",
    "df = pd.DataFrame(data)\n",
    "\n",
    "# Clean the column: drop NaN, convert to strings\n",
    "df_clean = df['Cause_of_loss'].dropna().astype(str)\n",
    "\n",
    "# Join all rows and split by semicolon\n",
    "all_diseases_raw = \";\".join(df_clean).split(\";\")\n",
    "\n",
    "# Extract disease names (remove local names in parentheses)\n",
    "diseases = [entry.strip().split(\" (\")[0] for entry in all_diseases_raw if entry.strip()]\n",
    "\n",
    "# Count unique disease names\n",
    "disease_count = Counter(diseases)\n",
    "\n",
    "# Convert to a DataFrame\n",
    "disease_df = pd.DataFrame(disease_count.items(), columns=[\"Disease\", \"Count\"])\n",
    "\n",
    "# Save to CSV\n",
    "disease_df.to_csv(\"Cause_of_loss.csv\", index=False)\n",
    "\n",
    "print(\"Disease counts saved to 'disease_counts.csv'\")\n"
   ]
  },
  {
   "cell_type": "code",
   "execution_count": 23,
   "id": "38fd2189-abff-4739-817c-c35c677efd99",
   "metadata": {},
   "outputs": [
    {
     "name": "stdout",
     "output_type": "stream",
     "text": [
      "+-------------------------+---------+\n",
      "| Disease                 |   Count |\n",
      "+=========================+=========+\n",
      "| Anthrax                 |     117 |\n",
      "+-------------------------+---------+\n",
      "| Black quarter           |      92 |\n",
      "+-------------------------+---------+\n",
      "| CBPP                    |     152 |\n",
      "+-------------------------+---------+\n",
      "| Foot and Mouth          |     195 |\n",
      "+-------------------------+---------+\n",
      "| Lumpy Skin              |     134 |\n",
      "+-------------------------+---------+\n",
      "| Malignant carhtal fever |     144 |\n",
      "+-------------------------+---------+\n",
      "| East Coast Fever        |     281 |\n",
      "+-------------------------+---------+\n",
      "| Trypanasomiasis         |     200 |\n",
      "+-------------------------+---------+\n",
      "| Heartwater              |     126 |\n",
      "+-------------------------+---------+\n",
      "| Ephemeral fever         |     130 |\n",
      "+-------------------------+---------+\n",
      "| Brucellosis             |      85 |\n",
      "+-------------------------+---------+\n",
      "| Anaplasmosis            |      27 |\n",
      "+-------------------------+---------+\n",
      "| Babesiosis              |      40 |\n",
      "+-------------------------+---------+\n",
      "| None                    |       1 |\n",
      "+-------------------------+---------+\n",
      "| Unknown                 |       3 |\n",
      "+-------------------------+---------+\n"
     ]
    }
   ],
   "source": [
    "import pandas as pd\n",
    "from collections import Counter\n",
    "from tabulate import tabulate\n",
    "\n",
    "# Example: Load your actual data\n",
    "# df = pd.read_csv(\"your_file.csv\")\n",
    "\n",
    "# Example dummy data (replace this with actual file loading)\n",
    "core=pd.read_csv(\"CAs April-May.csv\")\n",
    "data =core[\"Cattle_common_diseases\"]\n",
    "df = pd.DataFrame(data)\n",
    "# df = pd.DataFrame(data)\n",
    "\n",
    "# Drop NaNs and convert all values to strings\n",
    "df_clean = df['Cattle_common_diseases'].dropna().astype(str)\n",
    "\n",
    "# Combine all rows into one string and split by semicolon\n",
    "all_diseases_raw = \";\".join(df_clean).split(\";\")\n",
    "\n",
    "# Extract disease names before the parenthesis\n",
    "diseases = [entry.strip().split(\" (\")[0] for entry in all_diseases_raw if entry.strip()]\n",
    "\n",
    "# Count unique diseases\n",
    "disease_count = Counter(diseases)\n",
    "\n",
    "# Convert to table format\n",
    "table = [(disease, count) for disease, count in disease_count.items()]\n",
    "\n",
    "# Print table\n",
    "print(tabulate(table, headers=[\"Disease\", \"Count\"], tablefmt=\"grid\"))\n",
    "# disease_count.to_csv(\"Diseasecount.csv\")"
   ]
  }
 ],
 "metadata": {
  "kernelspec": {
   "display_name": "Python 3 (ipykernel)",
   "language": "python",
   "name": "python3"
  },
  "language_info": {
   "codemirror_mode": {
    "name": "ipython",
    "version": 3
   },
   "file_extension": ".py",
   "mimetype": "text/x-python",
   "name": "python",
   "nbconvert_exporter": "python",
   "pygments_lexer": "ipython3",
   "version": "3.10.14"
  }
 },
 "nbformat": 4,
 "nbformat_minor": 5
}
